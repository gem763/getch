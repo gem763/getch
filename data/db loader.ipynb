{
 "cells": [
  {
   "cell_type": "code",
   "execution_count": 2,
   "metadata": {},
   "outputs": [],
   "source": [
    "import requests\n",
    "import pandas as pd\n",
    "import numpy as np\n",
    "import json\n",
    "import os\n",
    "import glob\n",
    "import re\n",
    "import time\n",
    "from collections import Counter\n",
    "from IPython.core.debugger import set_trace\n",
    "\n",
    "from tqdm.auto import tqdm\n",
    "tqdm.pandas()\n",
    "\n",
    "import os\n",
    "import sys\n",
    "parentdir = os.path.abspath(os.path.join(os.getcwd(), os.pardir))\n",
    "sys.path.append(parentdir)"
   ]
  },
  {
   "cell_type": "code",
   "execution_count": 3,
   "metadata": {},
   "outputs": [],
   "source": [
    "import django\n",
    "from django.db import connection\n",
    "django.setup()\n",
    "\n",
    "from getchapp.models import CustomEmailUser, Brand"
   ]
  },
  {
   "cell_type": "markdown",
   "metadata": {},
   "source": [
    "# DB 초기화"
   ]
  },
  {
   "cell_type": "code",
   "execution_count": 5,
   "metadata": {},
   "outputs": [
    {
     "data": {
      "text/plain": [
       "'helinox.png'"
      ]
     },
     "execution_count": 5,
     "metadata": {},
     "output_type": "execute_result"
    }
   ],
   "source": [
    "def get_logo_fname(bname, where):\n",
    "    try:\n",
    "        return glob.glob(where + '/' + bname + '.*')[0].split('\\\\')[-1]\n",
    "    except:\n",
    "        return 'need file.jpg'\n",
    "    \n",
    "get_logo_fname('helinox', 'uploads/brand_images')"
   ]
  },
  {
   "cell_type": "code",
   "execution_count": 5,
   "metadata": {},
   "outputs": [],
   "source": [
    "#CustomEmailUser.objects.all().delete();\n",
    "Profile.objects.all().delete();\n",
    "Hashtag.objects.all().delete();\n",
    "Brand.objects.all().delete();\n",
    "Feed.objects.all().delete();\n",
    "Channel.objects.all().delete();"
   ]
  },
  {
   "cell_type": "markdown",
   "metadata": {},
   "source": [
    "# Brand"
   ]
  },
  {
   "cell_type": "code",
   "execution_count": 6,
   "metadata": {},
   "outputs": [
    {
     "data": {
      "application/vnd.jupyter.widget-view+json": {
       "model_id": "c0490b1dc0c342e492772385d223d013",
       "version_major": 2,
       "version_minor": 0
      },
      "text/plain": [
       "HBox(children=(IntProgress(value=0, max=324), HTML(value='')))"
      ]
     },
     "metadata": {},
     "output_type": "display_data"
    },
    {
     "name": "stdout",
     "output_type": "stream",
     "text": [
      "\n"
     ]
    }
   ],
   "source": [
    "bulk_brand = []\n",
    "ibrands = list(pd.read_excel('keywords and logos.xlsx', sheet_name='20190430').itertuples())[3:]\n",
    "\n",
    "for i, row in enumerate(tqdm(sorted(ibrands, key=lambda x:x.shortname)[::-1])):\n",
    "    obj = Brand()\n",
    "    obj.id = i+1\n",
    "    obj.name = row.shortname\n",
    "    obj.fullname_kr = row.koname\n",
    "    obj.fullname_en = row.fullname\n",
    "    obj.keywords = row.keywords\n",
    "    obj.origin = row.origin\n",
    "    obj.awareness = row.awareness\n",
    "    obj.category = row.category.lower()\n",
    "    obj.description = ''\n",
    "    obj.image = os.path.join('brand_images', get_logo_fname(row.shortname, 'uploads/brand_images'))\n",
    "    bulk_brand.append(obj)\n",
    "    \n",
    "Brand.objects.bulk_create(bulk_brand);"
   ]
  },
  {
   "cell_type": "markdown",
   "metadata": {},
   "source": [
    "# Channel"
   ]
  },
  {
   "cell_type": "code",
   "execution_count": 7,
   "metadata": {},
   "outputs": [
    {
     "data": {
      "application/vnd.jupyter.widget-view+json": {
       "model_id": "11d07c6160a24c0b833ada05519a0df0",
       "version_major": 2,
       "version_minor": 0
      },
      "text/plain": [
       "HBox(children=(IntProgress(value=0, max=324), HTML(value='')))"
      ]
     },
     "metadata": {},
     "output_type": "display_data"
    },
    {
     "name": "stdout",
     "output_type": "stream",
     "text": [
      "\n"
     ]
    }
   ],
   "source": [
    "bulk_channel = []\n",
    "for i, br in enumerate(tqdm(bulk_brand)):\n",
    "    obj = Channel()\n",
    "    obj.id = i+1\n",
    "    obj.content = br\n",
    "    bulk_channel.append(obj)\n",
    "    \n",
    "Channel.objects.bulk_create(bulk_channel);"
   ]
  },
  {
   "cell_type": "markdown",
   "metadata": {},
   "source": [
    "# CustomEmailUser"
   ]
  },
  {
   "cell_type": "code",
   "execution_count": 8,
   "metadata": {},
   "outputs": [],
   "source": [
    "users = None\n",
    "with open('users.json', encoding='UTF-8-sig') as f:\n",
    "    users = json.load(f)"
   ]
  },
  {
   "cell_type": "code",
   "execution_count": 9,
   "metadata": {},
   "outputs": [
    {
     "data": {
      "application/vnd.jupyter.widget-view+json": {
       "model_id": "538632bb11d4413c9c53c8cf22f59582",
       "version_major": 2,
       "version_minor": 0
      },
      "text/plain": [
       "HBox(children=(IntProgress(value=0, max=8872), HTML(value='')))"
      ]
     },
     "metadata": {},
     "output_type": "display_data"
    },
    {
     "name": "stdout",
     "output_type": "stream",
     "text": [
      "\n"
     ]
    }
   ],
   "source": [
    "bulk_emailuser = []\n",
    "for _id, _user in tqdm(users.items()):\n",
    "    obj = CustomEmailUser()\n",
    "    obj.id = _id\n",
    "    obj.email = _user['user'] + '@getch.com'\n",
    "    bulk_emailuser.append(obj)\n",
    "    \n",
    "CustomEmailUser.objects.bulk_create(bulk_emailuser);"
   ]
  },
  {
   "cell_type": "markdown",
   "metadata": {},
   "source": [
    "# Profile"
   ]
  },
  {
   "cell_type": "code",
   "execution_count": 10,
   "metadata": {},
   "outputs": [
    {
     "data": {
      "application/vnd.jupyter.widget-view+json": {
       "model_id": "de231df2cdc749a0ad3a9e5e0abfb341",
       "version_major": 2,
       "version_minor": 0
      },
      "text/plain": [
       "HBox(children=(IntProgress(value=0, max=8872), HTML(value='')))"
      ]
     },
     "metadata": {},
     "output_type": "display_data"
    },
    {
     "name": "stdout",
     "output_type": "stream",
     "text": [
      "\n"
     ]
    }
   ],
   "source": [
    "bulk_profile = []\n",
    "for i, (_id, _user) in enumerate(tqdm(list(users.items())[:])):\n",
    "    obj = Profile()\n",
    "    obj.id = _id\n",
    "    obj.user = bulk_emailuser[i]\n",
    "    obj.image = 'profile_images/' + _user['user'] + '@getch.com' + '/' + _user['profile_image'].split('/')[-1]\n",
    "    bulk_profile.append(obj)\n",
    "    \n",
    "Profile.objects.bulk_create(bulk_profile);\n",
    "# Profile.objects.bulk_update(bulk_profile, ['image']);"
   ]
  },
  {
   "cell_type": "markdown",
   "metadata": {},
   "source": [
    "# Hashtag"
   ]
  },
  {
   "cell_type": "code",
   "execution_count": 11,
   "metadata": {},
   "outputs": [],
   "source": [
    "hashtags = None\n",
    "with open('hashtags.json', encoding='UTF-8-sig') as f:\n",
    "    hashtags = json.load(f)"
   ]
  },
  {
   "cell_type": "code",
   "execution_count": 12,
   "metadata": {},
   "outputs": [],
   "source": [
    "EMOJI = r'[\\U00010000-\\U0010ffff]'"
   ]
  },
  {
   "cell_type": "code",
   "execution_count": 13,
   "metadata": {},
   "outputs": [
    {
     "data": {
      "application/vnd.jupyter.widget-view+json": {
       "model_id": "62e969762b00419f8bf1312f358ec212",
       "version_major": 2,
       "version_minor": 0
      },
      "text/plain": [
       "HBox(children=(IntProgress(value=0, max=21662), HTML(value='')))"
      ]
     },
     "metadata": {},
     "output_type": "display_data"
    },
    {
     "name": "stdout",
     "output_type": "stream",
     "text": [
      "\n"
     ]
    }
   ],
   "source": [
    "bulk_hashtags = []\n",
    "\n",
    "for i, _tag in enumerate(tqdm(hashtags)):\n",
    "    obj = Hashtag()\n",
    "    obj.id = i+1\n",
    "    _tag = re.sub(EMOJI, '', _tag) # MySQL에서는 이모티콘 저장이 잘 안된다. 아예 지워버리자...\n",
    "    \n",
    "    if _tag != '':\n",
    "        obj.hashtag = _tag\n",
    "        bulk_hashtags.append(obj)\n",
    "        \n",
    "Hashtag.objects.bulk_create(bulk_hashtags);"
   ]
  },
  {
   "cell_type": "markdown",
   "metadata": {},
   "source": [
    "# Feed"
   ]
  },
  {
   "cell_type": "code",
   "execution_count": 14,
   "metadata": {},
   "outputs": [],
   "source": [
    "channels_dict = {ch.content.name:ch.pk for ch in bulk_channel}"
   ]
  },
  {
   "cell_type": "code",
   "execution_count": 15,
   "metadata": {},
   "outputs": [],
   "source": [
    "profile_dict = {pr.user.email:pr for pr in bulk_profile}"
   ]
  },
  {
   "cell_type": "code",
   "execution_count": 16,
   "metadata": {},
   "outputs": [],
   "source": [
    "hashtags_dict = {ht.hashtag:ht.pk for ht in bulk_hashtags}"
   ]
  },
  {
   "cell_type": "code",
   "execution_count": 17,
   "metadata": {},
   "outputs": [],
   "source": [
    "feeds = None\n",
    "with open('feeds.json', encoding='UTF-8-sig') as f:\n",
    "    feeds = json.load(f)"
   ]
  },
  {
   "cell_type": "code",
   "execution_count": 18,
   "metadata": {},
   "outputs": [
    {
     "data": {
      "application/vnd.jupyter.widget-view+json": {
       "model_id": "2c7a17debf4345bb9a6b4a23dd93c0fb",
       "version_major": 2,
       "version_minor": 0
      },
      "text/plain": [
       "HBox(children=(IntProgress(value=0, max=46960), HTML(value='')))"
      ]
     },
     "metadata": {},
     "output_type": "display_data"
    },
    {
     "name": "stdout",
     "output_type": "stream",
     "text": [
      "\n"
     ]
    }
   ],
   "source": [
    "bulk_feeds = []\n",
    "\n",
    "for i, _feed in enumerate(tqdm(feeds[:])):\n",
    "    obj = Feed()\n",
    "    obj.id = i+1\n",
    "    # obj.membership = brand_dict[_feed['membership']] # 이렇게 foreignkey가 들어가려면, 해당 필드의 id가 있어야 하는듯 하다 (확인은 안됨)\n",
    "    obj.author = profile_dict[_feed['author']+'@getch.com']\n",
    "    obj.timestamp = str(pd.Timestamp(_feed['created_at']).tz_localize(None))\n",
    "    obj.nlikes = _feed['nlikes']\n",
    "    obj.content = re.sub(EMOJI, '', _feed['content'])\n",
    "    \n",
    "    if 'feed_image' in _feed:\n",
    "        # _feed[membership] 부분은, page가 여러개 있는 경우 - 로 연결하는 걸로: nike-adidas-custompage 등\n",
    "        obj.image = 'feed_images/' + _feed['membership'] + '/' + _feed['author'] + '@getch.com' + '/' + _feed['feed_image'].split('/')[-1]\n",
    "    \n",
    "    bulk_feeds.append(obj)"
   ]
  },
  {
   "cell_type": "code",
   "execution_count": 19,
   "metadata": {},
   "outputs": [],
   "source": [
    "# Feed.objects.bulk_update(bulk_feeds, ['timestamp']);\n",
    "# Feed.objects.bulk_update(bulk_feeds, ['image']);\n",
    "Feed.objects.bulk_create(bulk_feeds);"
   ]
  },
  {
   "cell_type": "code",
   "execution_count": 20,
   "metadata": {},
   "outputs": [
    {
     "data": {
      "application/vnd.jupyter.widget-view+json": {
       "model_id": "db9fb5663bb54b8bacba1d63e45edb93",
       "version_major": 2,
       "version_minor": 0
      },
      "text/plain": [
       "HBox(children=(IntProgress(value=0, max=46960), HTML(value='')))"
      ]
     },
     "metadata": {},
     "output_type": "display_data"
    },
    {
     "name": "stdout",
     "output_type": "stream",
     "text": [
      "\n"
     ]
    }
   ],
   "source": [
    "FeedHashtagsRelation = Feed.hashtags.through\n",
    "\n",
    "relations = []\n",
    "for i, _feed in enumerate(tqdm(feeds)):\n",
    "    for ht in _feed['hashtags']:\n",
    "        ht = re.sub(EMOJI, '', ht)\n",
    "        if ht != '':\n",
    "            relations.append(FeedHashtagsRelation(feed_id=i+1, hashtag_id=hashtags_dict[ht]))\n",
    "            \n",
    "FeedHashtagsRelation.objects.bulk_create(relations);"
   ]
  },
  {
   "cell_type": "code",
   "execution_count": 21,
   "metadata": {},
   "outputs": [
    {
     "data": {
      "application/vnd.jupyter.widget-view+json": {
       "model_id": "95d50f1f34a4480380088dd129ba7b7a",
       "version_major": 2,
       "version_minor": 0
      },
      "text/plain": [
       "HBox(children=(IntProgress(value=0, max=46960), HTML(value='')))"
      ]
     },
     "metadata": {},
     "output_type": "display_data"
    },
    {
     "name": "stdout",
     "output_type": "stream",
     "text": [
      "\n"
     ]
    }
   ],
   "source": [
    "FeedChannelsRelation = Feed.channels.through\n",
    "\n",
    "relations = []\n",
    "for i, _feed in enumerate(tqdm(feeds)):\n",
    "    relations.append(FeedChannelsRelation(feed_id=i+1, channel_id=channels_dict[_feed['membership']]))\n",
    "            \n",
    "FeedChannelsRelation.objects.bulk_create(relations);"
   ]
  },
  {
   "cell_type": "code",
   "execution_count": null,
   "metadata": {},
   "outputs": [],
   "source": []
  },
  {
   "cell_type": "code",
   "execution_count": null,
   "metadata": {},
   "outputs": [],
   "source": []
  },
  {
   "cell_type": "code",
   "execution_count": null,
   "metadata": {},
   "outputs": [],
   "source": []
  }
 ],
 "metadata": {
  "kernelspec": {
   "display_name": "Django Shell-Plus",
   "language": "python",
   "name": "django_extensions"
  },
  "language_info": {
   "codemirror_mode": {
    "name": "ipython",
    "version": 3
   },
   "file_extension": ".py",
   "mimetype": "text/x-python",
   "name": "python",
   "nbconvert_exporter": "python",
   "pygments_lexer": "ipython3",
   "version": "3.7.3"
  }
 },
 "nbformat": 4,
 "nbformat_minor": 2
}
